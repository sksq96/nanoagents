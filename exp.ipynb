{
 "cells": [
  {
   "cell_type": "code",
   "execution_count": null,
   "metadata": {},
   "outputs": [],
   "source": []
  },
  {
   "cell_type": "code",
   "execution_count": 1,
   "metadata": {},
   "outputs": [
    {
     "name": "stdout",
     "output_type": "stream",
     "text": [
      "You are a helpful weather assistant. Your goal is to provide accurate weather information for the cities that users ask about.\n",
      "\n",
      "You must respond with a JSON object in the following format:\n",
      "{\"name\": \"tool_name\", \"arguments\": {\"arg1\": \"value1\", \"arg2\": \"value2\"}}\n",
      "\n",
      "Available tools:\n",
      "- fetch_weather: \n",
      "- final_answer(answer: str): Provide your final answer to the task\n",
      "\n",
      "Examples:\n",
      "{\"name\": \"fetch_weather\", \"arguments\": {\"city\": \"New York\"}}\n",
      "{\"name\": \"final_answer\", \"arguments\": {\"answer\": \"Your comprehensive answer here\"}}\n",
      "\n",
      "IMPORTANT: Your response must be a valid JSON object with the format shown above.\n",
      "\n"
     ]
    }
   ],
   "source": [
    "print( \"You are a helpful weather assistant. Your goal is to provide accurate weather information for the cities that users ask about.\\n\\nYou must respond with a JSON object in the following format:\\n{\\\"name\\\": \\\"tool_name\\\", \\\"arguments\\\": {\\\"arg1\\\": \\\"value1\\\", \\\"arg2\\\": \\\"value2\\\"}}\\n\\nAvailable tools:\\n- fetch_weather: \\n- final_answer(answer: str): Provide your final answer to the task\\n\\nExamples:\\n{\\\"name\\\": \\\"fetch_weather\\\", \\\"arguments\\\": {\\\"city\\\": \\\"New York\\\"}}\\n{\\\"name\\\": \\\"final_answer\\\", \\\"arguments\\\": {\\\"answer\\\": \\\"Your comprehensive answer here\\\"}}\\n\\nIMPORTANT: Your response must be a valid JSON object with the format shown above.\\n\")"
   ]
  },
  {
   "cell_type": "code",
   "execution_count": null,
   "metadata": {},
   "outputs": [],
   "source": []
  },
  {
   "cell_type": "code",
   "execution_count": null,
   "metadata": {},
   "outputs": [],
   "source": []
  },
  {
   "cell_type": "code",
   "execution_count": null,
   "metadata": {},
   "outputs": [],
   "source": []
  }
 ],
 "metadata": {
  "kernelspec": {
   "display_name": "base",
   "language": "python",
   "name": "python3"
  },
  "language_info": {
   "codemirror_mode": {
    "name": "ipython",
    "version": 3
   },
   "file_extension": ".py",
   "mimetype": "text/x-python",
   "name": "python",
   "nbconvert_exporter": "python",
   "pygments_lexer": "ipython3",
   "version": "3.12.2"
  }
 },
 "nbformat": 4,
 "nbformat_minor": 2
}
