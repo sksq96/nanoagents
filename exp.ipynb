{
 "cells": [
  {
   "cell_type": "code",
   "execution_count": null,
   "metadata": {},
   "outputs": [],
   "source": [
    "from aider.coders import Coder\n",
    "from aider.models import Model\n",
    "\n",
    "# This is a list of files to add to the chat\n",
    "fnames = [\"server.py\"]\n",
    "\n",
    "model = Model(\"gpt-4-turbo\")\n",
    "\n",
    "# Create a coder object\n",
    "coder = Coder.create(main_model=model, fnames=fnames, stream=False)"
   ]
  },
  {
   "cell_type": "code",
   "execution_count": 10,
   "metadata": {},
   "outputs": [],
   "source": [
    "# Create a coder object\n",
    "coder = Coder.create(main_model=model, fnames=fnames, stream=False)"
   ]
  },
  {
   "cell_type": "code",
   "execution_count": 11,
   "metadata": {},
   "outputs": [
    {
     "data": {
      "text/html": [
       "<pre style=\"white-space:pre;overflow-x:auto;line-height:normal;font-family:Menlo,'DejaVu Sans Mono',consolas,'Courier New',monospace\"><span style=\"color: #000080; text-decoration-color: #000080\">The </span><span style=\"color: #008080; text-decoration-color: #008080; background-color: #000000; font-weight: bold\">server.py</span><span style=\"color: #000080; text-decoration-color: #000080\"> file contains code that sets up a server using the </span><span style=\"color: #008080; text-decoration-color: #008080; background-color: #000000; font-weight: bold\">FastMCP</span><span style=\"color: #000080; text-decoration-color: #000080\"> class from the </span><span style=\"color: #008080; text-decoration-color: #008080; background-color: #000000; font-weight: bold\">mcp.server.fastmcp</span><span style=\"color: #000080; text-decoration-color: #000080\"> module. </span>\n",
       "<span style=\"color: #000080; text-decoration-color: #000080\">Here's a breakdown of what each part of the code does:</span>                                                             \n",
       "\n",
       "<span style=\"color: #808000; text-decoration-color: #808000; font-weight: bold\"> 1 </span><span style=\"color: #000080; text-decoration-color: #000080; font-weight: bold\">Imports and Setup</span><span style=\"color: #000080; text-decoration-color: #000080\">:                                                                                              </span>\n",
       "<span style=\"color: #808000; text-decoration-color: #808000; font-weight: bold\">    • </span><span style=\"color: #008080; text-decoration-color: #008080; background-color: #000000; font-weight: bold\">from mcp.server.fastmcp import FastMCP</span><span style=\"color: #000080; text-decoration-color: #000080\">: This line imports the </span><span style=\"color: #008080; text-decoration-color: #008080; background-color: #000000; font-weight: bold\">FastMCP</span><span style=\"color: #000080; text-decoration-color: #000080\"> class from the </span><span style=\"color: #008080; text-decoration-color: #008080; background-color: #000000; font-weight: bold\">mcp.server.fastmcp</span><span style=\"color: #000080; text-decoration-color: #000080\">      </span>\n",
       "<span style=\"color: #808000; text-decoration-color: #808000; font-weight: bold\">      </span><span style=\"color: #000080; text-decoration-color: #000080\">module.                                                                                                      </span>\n",
       "<span style=\"color: #808000; text-decoration-color: #808000; font-weight: bold\">    • </span><span style=\"color: #008080; text-decoration-color: #008080; background-color: #000000; font-weight: bold\">import httpx</span><span style=\"color: #000080; text-decoration-color: #000080\">: Imports the </span><span style=\"color: #008080; text-decoration-color: #008080; background-color: #000000; font-weight: bold\">httpx</span><span style=\"color: #000080; text-decoration-color: #000080\"> library, which is an HTTP client for Python. This is used to make network    </span>\n",
       "<span style=\"color: #808000; text-decoration-color: #808000; font-weight: bold\">      </span><span style=\"color: #000080; text-decoration-color: #000080\">requests.                                                                                                    </span>\n",
       "<span style=\"color: #808000; text-decoration-color: #808000; font-weight: bold\">    • </span><span style=\"color: #008080; text-decoration-color: #008080; background-color: #000000; font-weight: bold\">mcp = FastMCP(\"Server\")</span><span style=\"color: #000080; text-decoration-color: #000080\">: Creates an instance of </span><span style=\"color: #008080; text-decoration-color: #008080; background-color: #000000; font-weight: bold\">FastMCP</span><span style=\"color: #000080; text-decoration-color: #000080\"> named </span><span style=\"color: #008080; text-decoration-color: #008080; background-color: #000000; font-weight: bold\">mcp</span><span style=\"color: #000080; text-decoration-color: #000080\"> and initializes it with the name \"Server\". </span>\n",
       "<span style=\"color: #808000; text-decoration-color: #808000; font-weight: bold\"> 2 </span><span style=\"color: #000080; text-decoration-color: #000080; font-weight: bold\">Tool Definition</span><span style=\"color: #000080; text-decoration-color: #000080\">:                                                                                                </span>\n",
       "<span style=\"color: #808000; text-decoration-color: #808000; font-weight: bold\">    • </span><span style=\"color: #008080; text-decoration-color: #008080; background-color: #000000; font-weight: bold\">@mcp.tool()</span><span style=\"color: #000080; text-decoration-color: #000080\">: This decorator registers the following asynchronous function as a tool in the MCP server.       </span>\n",
       "<span style=\"color: #808000; text-decoration-color: #808000; font-weight: bold\">    • </span><span style=\"color: #008080; text-decoration-color: #008080; background-color: #000000; font-weight: bold\">async def fetch_weather(city: str) -&gt; str</span><span style=\"color: #000080; text-decoration-color: #000080\">: Defines an asynchronous function </span><span style=\"color: #008080; text-decoration-color: #008080; background-color: #000000; font-weight: bold\">fetch_weather</span><span style=\"color: #000080; text-decoration-color: #000080\"> that takes a city  </span>\n",
       "<span style=\"color: #808000; text-decoration-color: #808000; font-weight: bold\">      </span><span style=\"color: #000080; text-decoration-color: #000080\">name as input and returns a string. This function fetches the weather information for the specified city.    </span>\n",
       "<span style=\"color: #808000; text-decoration-color: #808000; font-weight: bold\">    • </span><span style=\"color: #000080; text-decoration-color: #000080\">Inside </span><span style=\"color: #008080; text-decoration-color: #008080; background-color: #000000; font-weight: bold\">fetch_weather</span><span style=\"color: #000080; text-decoration-color: #000080\">:                                                                                        </span>\n",
       "<span style=\"color: #808000; text-decoration-color: #808000; font-weight: bold\">       • </span><span style=\"color: #008080; text-decoration-color: #008080; background-color: #000000; font-weight: bold\">async with httpx.AsyncClient() as client</span><span style=\"color: #000080; text-decoration-color: #000080\">: Creates an asynchronous HTTP client.                            </span>\n",
       "<span style=\"color: #808000; text-decoration-color: #808000; font-weight: bold\">       • </span><span style=\"color: #008080; text-decoration-color: #008080; background-color: #000000; font-weight: bold\">response = await client.get(f\"https://wttr.in/{city}?format=4\")</span><span style=\"color: #000080; text-decoration-color: #000080\">: Asynchronously sends a GET request to the</span>\n",
       "<span style=\"color: #808000; text-decoration-color: #808000; font-weight: bold\">         </span><span style=\"color: #000080; text-decoration-color: #000080\">wttr.in service to fetch weather information for the specified city. The response is formatted as         </span>\n",
       "<span style=\"color: #808000; text-decoration-color: #808000; font-weight: bold\">         </span><span style=\"color: #000080; text-decoration-color: #000080\">specified by the query parameter </span><span style=\"color: #008080; text-decoration-color: #008080; background-color: #000000; font-weight: bold\">format=4</span><span style=\"color: #000080; text-decoration-color: #000080\">.                                                                </span>\n",
       "<span style=\"color: #808000; text-decoration-color: #808000; font-weight: bold\">       • </span><span style=\"color: #008080; text-decoration-color: #008080; background-color: #000000; font-weight: bold\">return response.text</span><span style=\"color: #000080; text-decoration-color: #000080\">: Returns the text of the response, which should be the weather information.          </span>\n",
       "<span style=\"color: #808000; text-decoration-color: #808000; font-weight: bold\"> 3 </span><span style=\"color: #000080; text-decoration-color: #000080; font-weight: bold\">Main Execution Block</span><span style=\"color: #000080; text-decoration-color: #000080\">:                                                                                           </span>\n",
       "<span style=\"color: #808000; text-decoration-color: #808000; font-weight: bold\">    • </span><span style=\"color: #008080; text-decoration-color: #008080; background-color: #000000; font-weight: bold\">if __name__ == \"__main__\":</span><span style=\"color: #000080; text-decoration-color: #000080\">: This block will execute if the script is run directly (not imported).            </span>\n",
       "<span style=\"color: #808000; text-decoration-color: #808000; font-weight: bold\">    • </span><span style=\"color: #008080; text-decoration-color: #008080; background-color: #000000; font-weight: bold\">mcp.run()</span><span style=\"color: #000080; text-decoration-color: #000080\">: Starts the MCP server.                                                                            </span>\n",
       "\n",
       "<span style=\"color: #000080; text-decoration-color: #000080\">This setup allows the server to handle requests that ask for weather information of a specific city by utilizing </span>  \n",
       "<span style=\"color: #000080; text-decoration-color: #000080\">the </span><span style=\"color: #008080; text-decoration-color: #008080; background-color: #000000; font-weight: bold\">fetch_weather</span><span style=\"color: #000080; text-decoration-color: #000080\"> tool.</span>                                                                                            \n",
       "</pre>\n"
      ],
      "text/plain": [
       "\u001b[34mThe \u001b[0m\u001b[1;36;40mserver.py\u001b[0m\u001b[34m file contains code that sets up a server using the \u001b[0m\u001b[1;36;40mFastMCP\u001b[0m\u001b[34m class from the \u001b[0m\u001b[1;36;40mmcp.server.fastmcp\u001b[0m\u001b[34m module. \u001b[0m\n",
       "\u001b[34mHere's a breakdown of what each part of the code does:\u001b[0m                                                             \n",
       "\n",
       "\u001b[1;33m 1 \u001b[0m\u001b[1;34mImports and Setup\u001b[0m\u001b[34m:\u001b[0m\u001b[34m                                                                                              \u001b[0m\n",
       "\u001b[1;33m   \u001b[0m\u001b[1;33m • \u001b[0m\u001b[1;36;40mfrom mcp.server.fastmcp import FastMCP\u001b[0m\u001b[34m: This line imports the \u001b[0m\u001b[1;36;40mFastMCP\u001b[0m\u001b[34m class from the \u001b[0m\u001b[1;36;40mmcp.server.fastmcp\u001b[0m\u001b[34m \u001b[0m\u001b[34m     \u001b[0m\n",
       "\u001b[1;33m   \u001b[0m\u001b[1;33m   \u001b[0m\u001b[34mmodule.\u001b[0m\u001b[34m                                                                                                      \u001b[0m\n",
       "\u001b[1;33m   \u001b[0m\u001b[1;33m • \u001b[0m\u001b[1;36;40mimport httpx\u001b[0m\u001b[34m: Imports the \u001b[0m\u001b[1;36;40mhttpx\u001b[0m\u001b[34m library, which is an HTTP client for Python. This is used to make network \u001b[0m\u001b[34m   \u001b[0m\n",
       "\u001b[1;33m   \u001b[0m\u001b[1;33m   \u001b[0m\u001b[34mrequests.\u001b[0m\u001b[34m                                                                                                    \u001b[0m\n",
       "\u001b[1;33m   \u001b[0m\u001b[1;33m • \u001b[0m\u001b[1;36;40mmcp = FastMCP(\"Server\")\u001b[0m\u001b[34m: Creates an instance of \u001b[0m\u001b[1;36;40mFastMCP\u001b[0m\u001b[34m named \u001b[0m\u001b[1;36;40mmcp\u001b[0m\u001b[34m and initializes it with the name \"Server\".\u001b[0m\u001b[34m \u001b[0m\n",
       "\u001b[1;33m 2 \u001b[0m\u001b[1;34mTool Definition\u001b[0m\u001b[34m:\u001b[0m\u001b[34m                                                                                                \u001b[0m\n",
       "\u001b[1;33m   \u001b[0m\u001b[1;33m • \u001b[0m\u001b[1;36;40m@mcp.tool()\u001b[0m\u001b[34m: This decorator registers the following asynchronous function as a tool in the MCP server.\u001b[0m\u001b[34m       \u001b[0m\n",
       "\u001b[1;33m   \u001b[0m\u001b[1;33m • \u001b[0m\u001b[1;36;40masync def fetch_weather(city: str) -> str\u001b[0m\u001b[34m: Defines an asynchronous function \u001b[0m\u001b[1;36;40mfetch_weather\u001b[0m\u001b[34m that takes a city \u001b[0m\u001b[34m \u001b[0m\n",
       "\u001b[1;33m   \u001b[0m\u001b[1;33m   \u001b[0m\u001b[34mname as input and returns a string. This function fetches the weather information for the specified city.\u001b[0m\u001b[34m    \u001b[0m\n",
       "\u001b[1;33m   \u001b[0m\u001b[1;33m • \u001b[0m\u001b[34mInside \u001b[0m\u001b[1;36;40mfetch_weather\u001b[0m\u001b[34m:\u001b[0m\u001b[34m                                                                                        \u001b[0m\n",
       "\u001b[1;33m   \u001b[0m\u001b[1;33m   \u001b[0m\u001b[1;33m • \u001b[0m\u001b[1;36;40masync with httpx.AsyncClient() as client\u001b[0m\u001b[34m: Creates an asynchronous HTTP client.\u001b[0m\u001b[34m                            \u001b[0m\n",
       "\u001b[1;33m   \u001b[0m\u001b[1;33m   \u001b[0m\u001b[1;33m • \u001b[0m\u001b[1;36;40mresponse = await client.get(f\"https://wttr.in/{city}?format=4\")\u001b[0m\u001b[34m: Asynchronously sends a GET request to the\u001b[0m\n",
       "\u001b[1;33m   \u001b[0m\u001b[1;33m   \u001b[0m\u001b[1;33m   \u001b[0m\u001b[34mwttr.in service to fetch weather information for the specified city. The response is formatted as \u001b[0m\u001b[34m        \u001b[0m\n",
       "\u001b[1;33m   \u001b[0m\u001b[1;33m   \u001b[0m\u001b[1;33m   \u001b[0m\u001b[34mspecified by the query parameter \u001b[0m\u001b[1;36;40mformat=4\u001b[0m\u001b[34m.\u001b[0m\u001b[34m                                                                \u001b[0m\n",
       "\u001b[1;33m   \u001b[0m\u001b[1;33m   \u001b[0m\u001b[1;33m • \u001b[0m\u001b[1;36;40mreturn response.text\u001b[0m\u001b[34m: Returns the text of the response, which should be the weather information.\u001b[0m\u001b[34m          \u001b[0m\n",
       "\u001b[1;33m 3 \u001b[0m\u001b[1;34mMain Execution Block\u001b[0m\u001b[34m:\u001b[0m\u001b[34m                                                                                           \u001b[0m\n",
       "\u001b[1;33m   \u001b[0m\u001b[1;33m • \u001b[0m\u001b[1;36;40mif __name__ == \"__main__\":\u001b[0m\u001b[34m: This block will execute if the script is run directly (not imported).\u001b[0m\u001b[34m            \u001b[0m\n",
       "\u001b[1;33m   \u001b[0m\u001b[1;33m • \u001b[0m\u001b[1;36;40mmcp.run()\u001b[0m\u001b[34m: Starts the MCP server.\u001b[0m\u001b[34m                                                                            \u001b[0m\n",
       "\n",
       "\u001b[34mThis setup allows the server to handle requests that ask for weather information of a specific city by utilizing \u001b[0m  \n",
       "\u001b[34mthe \u001b[0m\u001b[1;36;40mfetch_weather\u001b[0m\u001b[34m tool.\u001b[0m                                                                                            \n"
      ]
     },
     "metadata": {},
     "output_type": "display_data"
    },
    {
     "data": {
      "text/html": [
       "<pre style=\"white-space:pre;overflow-x:auto;line-height:normal;font-family:Menlo,'DejaVu Sans Mono',consolas,'Courier New',monospace\">\n",
       "</pre>\n"
      ],
      "text/plain": [
       "\n"
      ]
     },
     "metadata": {},
     "output_type": "display_data"
    },
    {
     "data": {
      "text/html": [
       "<pre style=\"white-space:pre;overflow-x:auto;line-height:normal;font-family:Menlo,'DejaVu Sans Mono',consolas,'Courier New',monospace\">Tokens: 1.8k sent, 416 received. Cost: $0.03 message, $0.03 session.\n",
       "</pre>\n"
      ],
      "text/plain": [
       "Tokens: 1.8k sent, 416 received. Cost: $0.03 message, $0.03 session.\n"
      ]
     },
     "metadata": {},
     "output_type": "display_data"
    }
   ],
   "source": [
    "x = coder.run(\"what is happening in here\")"
   ]
  },
  {
   "cell_type": "code",
   "execution_count": 12,
   "metadata": {},
   "outputs": [
    {
     "name": "stdout",
     "output_type": "stream",
     "text": [
      "The `server.py` file contains code that sets up a server using the `FastMCP` class from the `mcp.server.fastmcp` module. Here's a breakdown of what each part of the code does:\n",
      "\n",
      "1. **Imports and Setup**:\n",
      "   - `from mcp.server.fastmcp import FastMCP`: This line imports the `FastMCP` class from the `mcp.server.fastmcp` module.\n",
      "   - `import httpx`: Imports the `httpx` library, which is an HTTP client for Python. This is used to make network requests.\n",
      "   - `mcp = FastMCP(\"Server\")`: Creates an instance of `FastMCP` named `mcp` and initializes it with the name \"Server\".\n",
      "\n",
      "2. **Tool Definition**:\n",
      "   - `@mcp.tool()`: This decorator registers the following asynchronous function as a tool in the MCP server.\n",
      "   - `async def fetch_weather(city: str) -> str`: Defines an asynchronous function `fetch_weather` that takes a city name as input and returns a string. This function fetches the weather information for the specified city.\n",
      "   - Inside `fetch_weather`:\n",
      "     - `async with httpx.AsyncClient() as client`: Creates an asynchronous HTTP client.\n",
      "     - `response = await client.get(f\"https://wttr.in/{city}?format=4\")`: Asynchronously sends a GET request to the wttr.in service to fetch weather information for the specified city. The response is formatted as specified by the query parameter `format=4`.\n",
      "     - `return response.text`: Returns the text of the response, which should be the weather information.\n",
      "\n",
      "3. **Main Execution Block**:\n",
      "   - `if __name__ == \"__main__\":`: This block will execute if the script is run directly (not imported).\n",
      "   - `mcp.run()`: Starts the MCP server.\n",
      "\n",
      "This setup allows the server to handle requests that ask for weather information of a specific city by utilizing the `fetch_weather` tool.\n"
     ]
    }
   ],
   "source": [
    "print(x)"
   ]
  },
  {
   "cell_type": "code",
   "execution_count": null,
   "metadata": {},
   "outputs": [],
   "source": []
  },
  {
   "cell_type": "code",
   "execution_count": null,
   "metadata": {},
   "outputs": [],
   "source": []
  },
  {
   "cell_type": "code",
   "execution_count": 1,
   "metadata": {},
   "outputs": [
    {
     "name": "stdout",
     "output_type": "stream",
     "text": [
      "You are a helpful weather assistant. Your goal is to provide accurate weather information for the cities that users ask about.\n",
      "\n",
      "You must respond with a JSON object in the following format:\n",
      "{\"name\": \"tool_name\", \"arguments\": {\"arg1\": \"value1\", \"arg2\": \"value2\"}}\n",
      "\n",
      "Available tools:\n",
      "- fetch_weather: \n",
      "- final_answer(answer: str): Provide your final answer to the task\n",
      "\n",
      "Examples:\n",
      "{\"name\": \"fetch_weather\", \"arguments\": {\"city\": \"New York\"}}\n",
      "{\"name\": \"final_answer\", \"arguments\": {\"answer\": \"Your comprehensive answer here\"}}\n",
      "\n",
      "IMPORTANT: Your response must be a valid JSON object with the format shown above.\n",
      "\n"
     ]
    }
   ],
   "source": [
    "print( \"You are a helpful weather assistant. Your goal is to provide accurate weather information for the cities that users ask about.\\n\\nYou must respond with a JSON object in the following format:\\n{\\\"name\\\": \\\"tool_name\\\", \\\"arguments\\\": {\\\"arg1\\\": \\\"value1\\\", \\\"arg2\\\": \\\"value2\\\"}}\\n\\nAvailable tools:\\n- fetch_weather: \\n- final_answer(answer: str): Provide your final answer to the task\\n\\nExamples:\\n{\\\"name\\\": \\\"fetch_weather\\\", \\\"arguments\\\": {\\\"city\\\": \\\"New York\\\"}}\\n{\\\"name\\\": \\\"final_answer\\\", \\\"arguments\\\": {\\\"answer\\\": \\\"Your comprehensive answer here\\\"}}\\n\\nIMPORTANT: Your response must be a valid JSON object with the format shown above.\\n\")"
   ]
  },
  {
   "cell_type": "code",
   "execution_count": null,
   "metadata": {},
   "outputs": [],
   "source": []
  },
  {
   "cell_type": "code",
   "execution_count": null,
   "metadata": {},
   "outputs": [],
   "source": []
  },
  {
   "cell_type": "code",
   "execution_count": null,
   "metadata": {},
   "outputs": [],
   "source": []
  }
 ],
 "metadata": {
  "kernelspec": {
   "display_name": "base",
   "language": "python",
   "name": "python3"
  },
  "language_info": {
   "codemirror_mode": {
    "name": "ipython",
    "version": 3
   },
   "file_extension": ".py",
   "mimetype": "text/x-python",
   "name": "python",
   "nbconvert_exporter": "python",
   "pygments_lexer": "ipython3",
   "version": "3.12.2"
  }
 },
 "nbformat": 4,
 "nbformat_minor": 2
}
